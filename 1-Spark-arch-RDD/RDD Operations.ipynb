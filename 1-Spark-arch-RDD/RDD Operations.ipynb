{
 "cells": [
  {
   "cell_type": "markdown",
   "id": "equal-tennis",
   "metadata": {},
   "source": [
    "# What is RDD?"
   ]
  },
  {
   "cell_type": "markdown",
   "id": "generic-polls",
   "metadata": {},
   "source": [
    "RDD stands for “Resilient Distributed Dataset”. It is the fundamental data structure of Apache Spark. RDD in Apache Spark is an immutable collection of objects which computes on the different node of the cluster.\n",
    "Decomposing the name RDD:\n",
    "\n",
    "    1.Resilient i.e. fault-tolerant with the help of RDD lineage graph(DAG) and so able to recompute missing or damaged partitions due to node failures.\n",
    "\n",
    "    2.Distributed, since Data resides on multiple nodes.\n",
    "\n",
    "    3.Dataset represents records of the data you work with. The user can load the data set externally which can be either JSON file, CSV file, text file or database via JDBC with no specific data structure.\n",
    "\n",
    "Hence, each and every dataset in RDD is logically partitioned across many servers so that they can be computed on different nodes of the cluster. RDDs are fault tolerant i.e. It posses self-recovery in the case of failure.\n",
    "\n",
    "There are three ways to create RDDs in Spark such as – Data in stable storage, other RDDs, and parallelizing already existing collection in driver program. One can also operate Spark RDDs in parallel with a low-level API that offers transformations and actions. We will study these Spark RDD Operations later in this section.\n",
    "\n",
    "Spark RDD can also be cached and manually partitioned. Caching is beneficial when we use RDD several times. And manual partitioning is important to correctly balance partitions. Generally, smaller partitions allow distributing RDD data more equally, among more executors. Hence, fewer partitions make the work easy.\n",
    "\n",
    "Programmers can also call a persist method to indicate which RDDs they want to reuse in future operations. Spark keeps persistent RDDs in memory by default, but it can spill them to disk if there is not enough RAM. Users can also request other persistence strategies, such as storing the RDD only on disk or replicating it across machines, through flags to persist."
   ]
  },
  {
   "cell_type": "markdown",
   "id": "hollow-terrorist",
   "metadata": {},
   "source": [
    "# Contents:\n",
    "    a.Creating RDD\n",
    "    b.Basic Operations:\n",
    "        1. .map(...)The method is applied to each element of the RDD and transformation is done \n",
    "        2. .filter(...)The method allows you to select elements of your dataset that fit specified criteria\n",
    "        3. .flatMap(...)The method works similarly to .map(...) but returns a flattened results instead of a list. \n",
    "        4. .distinct(...)The method returns a list of distinct values in a specified column.\n",
    "        5. .sample(...)The method returns a randomized sample from the dataset.\n",
    "        6. .take(n)The method returns first n elements in RDD  \n",
    "        7. .collect(...)The method used to print all elements in RDD  \n",
    "        8. .reduce(...)The method reduces the elements of an RDD using a specified method  \n",
    "        9. .count(...)The method used to return the number of elements in RDD  \n",
    "        10. .first(...)The Method used to return first element in RDD  \n",
    "        11. .foreach(...)A method that applies the same function to each element of the RDD in an iterative way.\n",
    "        12. .sum()The method used to sum of all elements in RDD\n",
    "        13. .stats()The method used to print all statistics of RDD"
   ]
  },
  {
   "cell_type": "markdown",
   "id": "adjacent-religion",
   "metadata": {},
   "source": [
    "# Importing Libraries"
   ]
  },
  {
   "cell_type": "code",
   "execution_count": 29,
   "id": "passing-shock",
   "metadata": {},
   "outputs": [],
   "source": [
    "import pyspark\n",
    "from pyspark import SparkContext\n",
    "import numpy as np\n",
    "import pandas as pd"
   ]
  },
  {
   "cell_type": "code",
   "execution_count": 30,
   "id": "yellow-garbage",
   "metadata": {},
   "outputs": [],
   "source": [
    "sc=SparkContext(\"local[*]\")"
   ]
  },
  {
   "cell_type": "markdown",
   "id": "graduate-mounting",
   "metadata": {},
   "source": [
    "# A. Creating RDD"
   ]
  },
  {
   "cell_type": "code",
   "execution_count": 31,
   "id": "packed-water",
   "metadata": {},
   "outputs": [
    {
     "name": "stdout",
     "output_type": "stream",
     "text": [
      "[0 1 3 5 0 5 5 9 5 8 8 3 1 7 8 1 7 3 5 3]\n"
     ]
    }
   ],
   "source": [
    "lst=np.random.randint(0,10,20)\n",
    "print(lst)"
   ]
  },
  {
   "cell_type": "markdown",
   "id": "upset-bangladesh",
   "metadata": {},
   "source": [
    "### What did we just do? We created a RDD? What is a RDD?\n",
    "![](https://i.stack.imgur.com/cwrMN.png)\n",
    "Spark revolves around the concept of a resilient distributed dataset (RDD), which is a **fault-tolerant collection of elements that can be operated on in parallel**. SparkContext manages the distributed data over the worker nodes through the cluster manager. \n",
    "\n",
    "There are two ways to create RDDs: \n",
    "* parallelizing an existing collection in your driver program, or \n",
    "* referencing a dataset in an external storage system, such as a shared filesystem, HDFS, HBase, or any data source offering a Hadoop InputFormat.\n",
    "\n",
    "We created a RDD using the former approach"
   ]
  },
  {
   "cell_type": "markdown",
   "id": "parliamentary-auction",
   "metadata": {},
   "source": [
    "# `A` is a pyspark RDD object, we cannot access the elements directly"
   ]
  },
  {
   "cell_type": "code",
   "execution_count": 32,
   "id": "outdoor-conflict",
   "metadata": {},
   "outputs": [],
   "source": [
    "A=sc.parallelize(lst)"
   ]
  },
  {
   "cell_type": "code",
   "execution_count": 33,
   "id": "exact-metro",
   "metadata": {},
   "outputs": [
    {
     "data": {
      "text/plain": [
       "pyspark.rdd.RDD"
      ]
     },
     "execution_count": 33,
     "metadata": {},
     "output_type": "execute_result"
    }
   ],
   "source": [
    "type(A)"
   ]
  },
  {
   "cell_type": "code",
   "execution_count": 34,
   "id": "falling-wichita",
   "metadata": {},
   "outputs": [
    {
     "data": {
      "text/plain": [
       "ParallelCollectionRDD[0] at parallelize at PythonRDD.scala:195"
      ]
     },
     "execution_count": 34,
     "metadata": {},
     "output_type": "execute_result"
    }
   ],
   "source": [
    "A"
   ]
  },
  {
   "cell_type": "markdown",
   "id": "aging-phase",
   "metadata": {},
   "source": [
    "### Opposite to parallelization - `collect` brings all the distributed elements and returns them to the head node. <br><br>Note - this is a slow process, do not use it often. "
   ]
  },
  {
   "cell_type": "code",
   "execution_count": 35,
   "id": "ready-helen",
   "metadata": {},
   "outputs": [
    {
     "data": {
      "text/plain": [
       "[0, 1, 3, 5, 0, 5, 5, 9, 5, 8, 8, 3, 1, 7, 8, 1, 7, 3, 5, 3]"
      ]
     },
     "execution_count": 35,
     "metadata": {},
     "output_type": "execute_result"
    }
   ],
   "source": [
    "A.collect()"
   ]
  },
  {
   "cell_type": "markdown",
   "id": "dedicated-documentation",
   "metadata": {},
   "source": [
    "### How were the partitions created? Use `glom` method"
   ]
  },
  {
   "cell_type": "code",
   "execution_count": 36,
   "id": "academic-medicine",
   "metadata": {},
   "outputs": [
    {
     "data": {
      "text/plain": [
       "[[0],\n",
       " [1, 3],\n",
       " [5, 0],\n",
       " [5],\n",
       " [5, 9],\n",
       " [5, 8],\n",
       " [8],\n",
       " [3, 1],\n",
       " [7, 8],\n",
       " [1],\n",
       " [7, 3],\n",
       " [5, 3]]"
      ]
     },
     "execution_count": 36,
     "metadata": {},
     "output_type": "execute_result"
    }
   ],
   "source": [
    "A.glom().collect()"
   ]
  },
  {
   "cell_type": "markdown",
   "id": "cognitive-silly",
   "metadata": {},
   "source": [
    "# B. Transformations"
   ]
  },
  {
   "cell_type": "markdown",
   "id": "alive-joshua",
   "metadata": {},
   "source": [
    "### 1. `map` function"
   ]
  },
  {
   "cell_type": "code",
   "execution_count": 37,
   "id": "yellow-header",
   "metadata": {},
   "outputs": [],
   "source": [
    "B=A.map(lambda x:x*x)"
   ]
  },
  {
   "cell_type": "code",
   "execution_count": 38,
   "id": "substantial-popularity",
   "metadata": {},
   "outputs": [
    {
     "data": {
      "text/plain": [
       "[0, 1, 9, 25, 0, 25, 25, 81, 25, 64, 64, 9, 1, 49, 64, 1, 49, 9, 25, 9]"
      ]
     },
     "execution_count": 38,
     "metadata": {},
     "output_type": "execute_result"
    }
   ],
   "source": [
    "B.collect()"
   ]
  },
  {
   "cell_type": "markdown",
   "id": "basic-breathing",
   "metadata": {},
   "source": [
    "`map` operation with regular Python function"
   ]
  },
  {
   "cell_type": "code",
   "execution_count": 39,
   "id": "metric-amino",
   "metadata": {},
   "outputs": [],
   "source": [
    "def square(x):\n",
    "    return x*x*x"
   ]
  },
  {
   "cell_type": "code",
   "execution_count": 40,
   "id": "finished-trunk",
   "metadata": {},
   "outputs": [],
   "source": [
    "C=A.map(square)"
   ]
  },
  {
   "cell_type": "code",
   "execution_count": 41,
   "id": "attempted-hayes",
   "metadata": {},
   "outputs": [
    {
     "data": {
      "text/plain": [
       "[0,\n",
       " 1,\n",
       " 27,\n",
       " 125,\n",
       " 0,\n",
       " 125,\n",
       " 125,\n",
       " 729,\n",
       " 125,\n",
       " 512,\n",
       " 512,\n",
       " 27,\n",
       " 1,\n",
       " 343,\n",
       " 512,\n",
       " 1,\n",
       " 343,\n",
       " 27,\n",
       " 125,\n",
       " 27]"
      ]
     },
     "execution_count": 41,
     "metadata": {},
     "output_type": "execute_result"
    }
   ],
   "source": [
    "C.collect()"
   ]
  },
  {
   "cell_type": "markdown",
   "id": "annual-found",
   "metadata": {},
   "source": [
    "### 2. `filter` function"
   ]
  },
  {
   "cell_type": "code",
   "execution_count": 42,
   "id": "annoying-discipline",
   "metadata": {},
   "outputs": [
    {
     "data": {
      "text/plain": [
       "[0, 0, 8, 8, 8]"
      ]
     },
     "execution_count": 42,
     "metadata": {},
     "output_type": "execute_result"
    }
   ],
   "source": [
    "A.filter(lambda x:x%4==0).collect()"
   ]
  },
  {
   "cell_type": "markdown",
   "id": "collaborative-water",
   "metadata": {},
   "source": [
    "### 3. `flatmap` function"
   ]
  },
  {
   "cell_type": "code",
   "execution_count": 43,
   "id": "accessible-anxiety",
   "metadata": {},
   "outputs": [],
   "source": [
    "D=A.flatMap(lambda x:(x,x*x))"
   ]
  },
  {
   "cell_type": "markdown",
   "id": "charged-regard",
   "metadata": {},
   "source": [
    "### `flatmap` method returns a new RDD by first applying a function to all elements of this RDD, and then flattening the results"
   ]
  },
  {
   "cell_type": "code",
   "execution_count": 44,
   "id": "divided-minimum",
   "metadata": {},
   "outputs": [
    {
     "data": {
      "text/plain": [
       "[0,\n",
       " 0,\n",
       " 1,\n",
       " 1,\n",
       " 3,\n",
       " 9,\n",
       " 5,\n",
       " 25,\n",
       " 0,\n",
       " 0,\n",
       " 5,\n",
       " 25,\n",
       " 5,\n",
       " 25,\n",
       " 9,\n",
       " 81,\n",
       " 5,\n",
       " 25,\n",
       " 8,\n",
       " 64,\n",
       " 8,\n",
       " 64,\n",
       " 3,\n",
       " 9,\n",
       " 1,\n",
       " 1,\n",
       " 7,\n",
       " 49,\n",
       " 8,\n",
       " 64,\n",
       " 1,\n",
       " 1,\n",
       " 7,\n",
       " 49,\n",
       " 3,\n",
       " 9,\n",
       " 5,\n",
       " 25,\n",
       " 3,\n",
       " 9]"
      ]
     },
     "execution_count": 44,
     "metadata": {},
     "output_type": "execute_result"
    }
   ],
   "source": [
    "D.collect()"
   ]
  },
  {
   "cell_type": "markdown",
   "id": "serial-portal",
   "metadata": {},
   "source": [
    "### 4. `distinct` function"
   ]
  },
  {
   "cell_type": "markdown",
   "id": "martial-patio",
   "metadata": {},
   "source": [
    "### The method `RDD.distinct()` Returns a new dataset that contains the distinct elements of the source dataset."
   ]
  },
  {
   "cell_type": "code",
   "execution_count": 45,
   "id": "binary-hamilton",
   "metadata": {},
   "outputs": [
    {
     "data": {
      "text/plain": [
       "[0, 1, 3, 5, 7, 8, 9]"
      ]
     },
     "execution_count": 45,
     "metadata": {},
     "output_type": "execute_result"
    }
   ],
   "source": [
    "A.distinct().collect()"
   ]
  },
  {
   "cell_type": "markdown",
   "id": "medium-vancouver",
   "metadata": {},
   "source": [
    "### 5. `sample` function"
   ]
  },
  {
   "cell_type": "markdown",
   "id": "junior-simon",
   "metadata": {},
   "source": [
    "## Sampling an RDD\n",
    "* RDDs are often very large.\n",
    "* **Aggregates, such as averages, can be approximated efficiently by using a sample.** This comes handy often for operation with extremely large datasets where a sample can tell a lot about the pattern and descriptive statistics of the data.\n",
    "* Sampling is done in parallel and requires limited computation.\n",
    "\n",
    "The method `RDD.sample(withReplacement,p)` generates a sample of the elements of the RDD. where\n",
    "- `withReplacement` is a boolean flag indicating whether or not a an element in the RDD can be sampled more than once.\n",
    "- `p` is the probability of accepting each element into the sample. Note that as the sampling is performed independently in each partition, the number of elements in the sample changes from sample to sample."
   ]
  },
  {
   "cell_type": "code",
   "execution_count": 46,
   "id": "precise-staff",
   "metadata": {},
   "outputs": [
    {
     "name": "stdout",
     "output_type": "stream",
     "text": [
      "sample1= [3, 5, 5, 5, 1, 8]\n",
      "sample2= [1, 0, 5, 5]\n"
     ]
    }
   ],
   "source": [
    "m=5\n",
    "n=20\n",
    "print('sample1=',A.sample(False,m/n).collect()) \n",
    "print('sample2=',A.sample(False,m/n).collect())"
   ]
  },
  {
   "cell_type": "markdown",
   "id": "collectible-strain",
   "metadata": {},
   "source": [
    "### 6. `take` function"
   ]
  },
  {
   "cell_type": "code",
   "execution_count": 47,
   "id": "asian-korea",
   "metadata": {},
   "outputs": [
    {
     "data": {
      "text/plain": [
       "[0]"
      ]
     },
     "execution_count": 47,
     "metadata": {},
     "output_type": "execute_result"
    }
   ],
   "source": [
    "A.take(1)"
   ]
  },
  {
   "cell_type": "markdown",
   "id": "genetic-flood",
   "metadata": {},
   "source": [
    "### 7. `collect` function"
   ]
  },
  {
   "cell_type": "code",
   "execution_count": 48,
   "id": "present-biology",
   "metadata": {},
   "outputs": [
    {
     "data": {
      "text/plain": [
       "[0, 1, 3, 5, 0, 5, 5, 9, 5, 8, 8, 3, 1, 7, 8, 1, 7, 3, 5, 3]"
      ]
     },
     "execution_count": 48,
     "metadata": {},
     "output_type": "execute_result"
    }
   ],
   "source": [
    "A.collect()"
   ]
  },
  {
   "cell_type": "markdown",
   "id": "prepared-member",
   "metadata": {},
   "source": [
    "### 8. `reduce` function"
   ]
  },
  {
   "cell_type": "code",
   "execution_count": 49,
   "id": "third-torture",
   "metadata": {},
   "outputs": [
    {
     "data": {
      "text/plain": [
       "87"
      ]
     },
     "execution_count": 49,
     "metadata": {},
     "output_type": "execute_result"
    }
   ],
   "source": [
    "A.reduce(lambda x,y:x+y)"
   ]
  },
  {
   "cell_type": "markdown",
   "id": "attractive-italy",
   "metadata": {},
   "source": [
    "### 9. `count` function"
   ]
  },
  {
   "cell_type": "code",
   "execution_count": 50,
   "id": "retained-detective",
   "metadata": {},
   "outputs": [
    {
     "data": {
      "text/plain": [
       "20"
      ]
     },
     "execution_count": 50,
     "metadata": {},
     "output_type": "execute_result"
    }
   ],
   "source": [
    "A.count()"
   ]
  },
  {
   "cell_type": "markdown",
   "id": "christian-desire",
   "metadata": {},
   "source": [
    "### 10. `first` function"
   ]
  },
  {
   "cell_type": "code",
   "execution_count": 51,
   "id": "creative-newspaper",
   "metadata": {},
   "outputs": [
    {
     "data": {
      "text/plain": [
       "0"
      ]
     },
     "execution_count": 51,
     "metadata": {},
     "output_type": "execute_result"
    }
   ],
   "source": [
    "A.first()"
   ]
  },
  {
   "cell_type": "markdown",
   "id": "historic-cartoon",
   "metadata": {},
   "source": [
    "### 11. `foreach` function "
   ]
  },
  {
   "cell_type": "code",
   "execution_count": 55,
   "id": "essential-continent",
   "metadata": {},
   "outputs": [],
   "source": [
    "def lm(x): \n",
    "    print(x)"
   ]
  },
  {
   "cell_type": "code",
   "execution_count": 56,
   "id": "residential-fetish",
   "metadata": {},
   "outputs": [],
   "source": [
    "A.foreach(lm)"
   ]
  },
  {
   "cell_type": "markdown",
   "id": "painted-adobe",
   "metadata": {},
   "source": [
    "### 12. `sum` function "
   ]
  },
  {
   "cell_type": "code",
   "execution_count": 57,
   "id": "broke-motel",
   "metadata": {},
   "outputs": [
    {
     "data": {
      "text/plain": [
       "87"
      ]
     },
     "execution_count": 57,
     "metadata": {},
     "output_type": "execute_result"
    }
   ],
   "source": [
    "A.sum()"
   ]
  },
  {
   "cell_type": "markdown",
   "id": "ultimate-commonwealth",
   "metadata": {},
   "source": [
    "### 13. `stats` function "
   ]
  },
  {
   "cell_type": "code",
   "execution_count": 58,
   "id": "quality-lease",
   "metadata": {},
   "outputs": [
    {
     "data": {
      "text/plain": [
       "(count: 20, mean: 4.35, stdev: 2.797766966707556, max: 9.0, min: 0.0)"
      ]
     },
     "execution_count": 58,
     "metadata": {},
     "output_type": "execute_result"
    }
   ],
   "source": [
    "A.stats()"
   ]
  },
  {
   "cell_type": "code",
   "execution_count": 54,
   "id": "consecutive-mauritius",
   "metadata": {},
   "outputs": [],
   "source": [
    "# sc.stop()"
   ]
  }
 ],
 "metadata": {
  "kernelspec": {
   "display_name": "Python 3",
   "language": "python",
   "name": "python3"
  },
  "language_info": {
   "codemirror_mode": {
    "name": "ipython",
    "version": 3
   },
   "file_extension": ".py",
   "mimetype": "text/x-python",
   "name": "python",
   "nbconvert_exporter": "python",
   "pygments_lexer": "ipython3",
   "version": "3.7.9"
  }
 },
 "nbformat": 4,
 "nbformat_minor": 5
}
