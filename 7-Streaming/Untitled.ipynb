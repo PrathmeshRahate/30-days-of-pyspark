{
 "cells": [
  {
   "cell_type": "code",
   "execution_count": null,
   "id": "leading-testing",
   "metadata": {},
   "outputs": [],
   "source": [
    "import os\n",
    "from pyspark import SparkContext\n",
    "from pyspark.streaming import StreamingContext\n",
    "from pyspark.streaming.kafka import KafkaUtils\n",
    "import json"
   ]
  },
  {
   "cell_type": "code",
   "execution_count": null,
   "id": "bound-explorer",
   "metadata": {},
   "outputs": [],
   "source": [
    "sc=SparkContext(master='local[*]',appName='test')\n",
    "ssc=StreamingContext(sc,batchDuration=20)\n",
    "brokers='localhost:9092'"
   ]
  },
  {
   "cell_type": "code",
   "execution_count": null,
   "id": "focused-egypt",
   "metadata": {},
   "outputs": [],
   "source": [
    "topic=\"topic_test\"\n",
    "kvs=KafkaUtils.createDirectStream(ssc,[topic],kafkaParams={\"metadata.broker.list\":brokers})\n",
    "kvs.pprint()"
   ]
  },
  {
   "cell_type": "code",
   "execution_count": null,
   "id": "solid-lunch",
   "metadata": {},
   "outputs": [],
   "source": [
    "ssc.start()\n",
    "ssc.awaitTermination()"
   ]
  }
 ],
 "metadata": {
  "kernelspec": {
   "display_name": "Python 3",
   "language": "python",
   "name": "python3"
  },
  "language_info": {
   "codemirror_mode": {
    "name": "ipython",
    "version": 3
   },
   "file_extension": ".py",
   "mimetype": "text/x-python",
   "name": "python",
   "nbconvert_exporter": "python",
   "pygments_lexer": "ipython3",
   "version": "3.7.9"
  }
 },
 "nbformat": 4,
 "nbformat_minor": 5
}
