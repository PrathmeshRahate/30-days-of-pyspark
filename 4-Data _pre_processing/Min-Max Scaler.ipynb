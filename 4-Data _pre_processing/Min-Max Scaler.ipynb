{
 "cells": [
  {
   "cell_type": "code",
   "execution_count": 1,
   "id": "posted-signal",
   "metadata": {},
   "outputs": [],
   "source": [
    "from pyspark.sql import SparkSession"
   ]
  },
  {
   "cell_type": "code",
   "execution_count": 2,
   "id": "heated-helen",
   "metadata": {},
   "outputs": [],
   "source": [
    "sc = SparkSession.builder.appName('Basics').getOrCreate()"
   ]
  },
  {
   "cell_type": "code",
   "execution_count": 3,
   "id": "canadian-surrey",
   "metadata": {},
   "outputs": [
    {
     "name": "stdout",
     "output_type": "stream",
     "text": [
      "+---+---+----+\n",
      "|  x|  y|   z|\n",
      "+---+---+----+\n",
      "|  0|  1| 100|\n",
      "|  1|  2| 200|\n",
      "|  2|  5|1000|\n",
      "+---+---+----+\n",
      "\n"
     ]
    }
   ],
   "source": [
    "import pandas as pd\n",
    "from pyspark.ml.feature import MinMaxScaler\n",
    "from pyspark.ml import Pipeline\n",
    "from pyspark.ml.feature import VectorAssembler\n",
    "\n",
    "pdf = pd.DataFrame({'x':range(3), 'y':[1,2,5], 'z':[100,200,1000]})\n",
    "df = sc.createDataFrame(pdf)\n",
    "df.show()\n",
    "assembler = VectorAssembler(inputCols=[\"x\"], outputCol=\"x_vec\")\n",
    "scaler = MinMaxScaler(inputCol=\"x_vec\", outputCol=\"x_scaled\")\n",
    "pipeline = Pipeline(stages=[assembler, scaler])\n",
    "scalerModel = pipeline.fit(df)\n",
    "scaledData = scalerModel.transform(df)"
   ]
  },
  {
   "cell_type": "code",
   "execution_count": 4,
   "id": "pacific-california",
   "metadata": {},
   "outputs": [
    {
     "name": "stdout",
     "output_type": "stream",
     "text": [
      "+---+---+----+-----+--------+\n",
      "|  x|  y|   z|x_vec|x_scaled|\n",
      "+---+---+----+-----+--------+\n",
      "|  0|  1| 100|[0.0]|   [0.0]|\n",
      "|  1|  2| 200|[1.0]|   [0.5]|\n",
      "|  2|  5|1000|[2.0]|   [1.0]|\n",
      "+---+---+----+-----+--------+\n",
      "\n"
     ]
    }
   ],
   "source": [
    "scaledData.show()"
   ]
  }
 ],
 "metadata": {
  "kernelspec": {
   "display_name": "Python 3",
   "language": "python",
   "name": "python3"
  },
  "language_info": {
   "codemirror_mode": {
    "name": "ipython",
    "version": 3
   },
   "file_extension": ".py",
   "mimetype": "text/x-python",
   "name": "python",
   "nbconvert_exporter": "python",
   "pygments_lexer": "ipython3",
   "version": "3.7.9"
  }
 },
 "nbformat": 4,
 "nbformat_minor": 5
}
